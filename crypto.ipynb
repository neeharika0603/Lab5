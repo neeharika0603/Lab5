{
  "nbformat": 4,
  "nbformat_minor": 0,
  "metadata": {
    "colab": {
      "provenance": [],
      "authorship_tag": "ABX9TyOAZzTUFAYwYitoikWoj0CI",
      "include_colab_link": true
    },
    "kernelspec": {
      "name": "python3",
      "display_name": "Python 3"
    },
    "language_info": {
      "name": "python"
    }
  },
  "cells": [
    {
      "cell_type": "markdown",
      "metadata": {
        "id": "view-in-github",
        "colab_type": "text"
      },
      "source": [
        "<a href=\"https://colab.research.google.com/github/neeharika0603/Lab5/blob/main/crypto.ipynb\" target=\"_parent\"><img src=\"https://colab.research.google.com/assets/colab-badge.svg\" alt=\"Open In Colab\"/></a>"
      ]
    },
    {
      "cell_type": "code",
      "execution_count": null,
      "metadata": {
        "colab": {
          "base_uri": "https://localhost:8080/"
        },
        "id": "0y_5_lydgv-W",
        "outputId": "484ebb1a-380f-4741-cf17-8f04399a27f8"
      },
      "outputs": [
        {
          "output_type": "stream",
          "name": "stdout",
          "text": [
            "Save input image as 'Input.jpg' in the same folder as this file\n",
            "\n"
          ]
        }
      ],
      "source": [
        "import numpy as np\n",
        "from PIL import Image\n",
        "\n",
        "def psnr(original, contrast):\n",
        "    mse = np.mean((original - contrast) ** 2)\n",
        "    if mse == 0:\n",
        "        return 100\n",
        "    PIXEL_MAX = 255.0\n",
        "    PSNR = 20 * np.log10(PIXEL_MAX / np.sqrt(mse))\n",
        "    return PSNR\n",
        "\n",
        "def normxcorr2D(image, template):\n",
        "    t = np.asarray(template, dtype=np.float64)\n",
        "    t = t - np.mean(t)\n",
        "    norm = np.sqrt(np.sum(np.square(t)))\n",
        "    if norm == 0:\n",
        "        raise ValueError(\"Norm of the input is 0\")\n",
        "    t = t / norm\n",
        "\n",
        "    sum_filter = np.ones(np.shape(t))\n",
        "    a = np.asarray(image, dtype=np.float64)\n",
        "    aa = np.square(a)\n",
        "\n",
        "    a_sum = np.sum(a)\n",
        "    aa_sum = np.sum(aa)\n",
        "\n",
        "    numer = np.sum(a * t)\n",
        "    denom = np.sqrt(aa_sum - np.square(a_sum) / np.size(t))\n",
        "\n",
        "    tol = np.sqrt(np.finfo(denom.dtype).eps)\n",
        "    nxcorr = np.where(denom < tol, 0, numer / denom)\n",
        "\n",
        "    nxcorr = np.where(np.abs(nxcorr - 1.) > np.sqrt(np.finfo(nxcorr.dtype).eps), nxcorr, 0)\n",
        "\n",
        "    return np.mean(nxcorr)\n",
        "\n",
        "def encrypt(input_image, share_size):\n",
        "    image = np.asarray(input_image)\n",
        "    (row, column, depth) = image.shape\n",
        "    shares = np.random.randint(0, 256, size=(row, column, depth, share_size))\n",
        "    shares[:, :, :, -1] = image.copy()\n",
        "    for i in range(share_size - 1):\n",
        "        shares[:, :, :, -1] = shares[:, :, :, -1] ^ shares[:, :, :, i]\n",
        "\n",
        "    return shares, image\n",
        "\n",
        "def decrypt(shares):\n",
        "    (row, column, depth, share_size) = shares.shape\n",
        "    shares_image = shares.copy()\n",
        "    for i in range(share_size - 1):\n",
        "        shares_image[:, :, :, -1] = shares_image[:, :, :, -1] ^ shares_image[:, :, :, i]\n",
        "\n",
        "    final_output = shares_image[:, :, :, share_size - 1]\n",
        "    output_image = Image.fromarray(final_output.astype(np.uint8))\n",
        "    return output_image, final_output\n",
        "\n",
        "if __name__ == \"__main__\":\n",
        "    print(\"Save input image as 'Input.jpg' in the same folder as this file\\n\")\n",
        "\n",
        "    try:\n",
        "        share_size = int(input(\"Input the number of shares images you want to create for encrypting (min is 2, max is 8) : \"))\n",
        "        if share_size < 2 or share_size > 8:\n",
        "            raise ValueError\n",
        "    except ValueError:\n",
        "        print(\"Input is not a valid integer!\")\n",
        "        exit(0)\n",
        "\n",
        "    try:\n",
        "        input_image = Image.open('Input.jpg')  # Corrected file extension to 'Input.jpg'\n",
        "    except FileNotFoundError:\n",
        "        print(\"Input file not found!\")\n",
        "        exit(0)\n",
        "\n",
        "    print(\"Image uploaded successfully!\")\n",
        "    print(\"Input image size (in pixels) : \", input_image.size)\n",
        "    print(\"Number of shares image = \", share_size)\n",
        "\n",
        "    shares, input_matrix = encrypt(input_image, share_size)\n",
        "\n",
        "    for ind in range(share_size):\n",
        "        image = Image.fromarray(shares[:, :, :, ind].astype(np.uint8))\n",
        "        name = \"XOR_Share_\" + str(ind + 1) + \".png\"\n",
        "        image.save(name)\n",
        "\n",
        "    output_image, output_matrix = decrypt(shares)\n",
        "\n",
        "    output_image.save('XOR.png')\n",
        "    print(\"Image is saved 'XOR.png' ...\")\n",
        "\n",
        "    print(\"Evaluation metrics : \")\n",
        "    print(f\"PSNR value is {psnr(input_matrix, output_matrix)} dB\")\n",
        "    print(f\"Mean NCORR value is {normxcorr2D(input_matrix, output_matrix)}\")\n"
      ]
    }
  ]
}